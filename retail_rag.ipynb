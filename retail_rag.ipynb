{
  "cells": [
    {
      "cell_type": "markdown",
      "metadata": {
        "colab_type": "text",
        "id": "view-in-github"
      },
      "source": [
        "<a href=\"https://colab.research.google.com/github/munishkap/retailrag/blob/main/retail_rag.ipynb\" target=\"_parent\"><img src=\"https://colab.research.google.com/assets/colab-badge.svg\" alt=\"Open In Colab\"/></a>"
      ]
    },
    {
      "cell_type": "code",
      "execution_count": 1,
      "metadata": {
        "id": "G0SAcKjlFjlA"
      },
      "outputs": [
        {
          "name": "stdout",
          "output_type": "stream",
          "text": [
            "Note: you may need to restart the kernel to use updated packages.\n",
            "Note: you may need to restart the kernel to use updated packages.\n",
            "Note: you may need to restart the kernel to use updated packages.\n",
            "Note: you may need to restart the kernel to use updated packages.\n",
            "Note: you may need to restart the kernel to use updated packages.\n",
            "Note: you may need to restart the kernel to use updated packages.\n"
          ]
        }
      ],
      "source": [
        "%pip install openai --quiet\n",
        "%pip install tenacity --quiet\n",
        "%pip install tqdm --quiet\n",
        "%pip install numpy --quiet\n",
        "%pip install typing --quiet\n",
        "%pip install tiktoken --quiet\n",
        "\n"
      ]
    },
    {
      "cell_type": "code",
      "execution_count": 4,
      "metadata": {},
      "outputs": [
        {
          "name": "stdout",
          "output_type": "stream",
          "text": [
            "Note: you may need to restart the kernel to use updated packages.\n"
          ]
        }
      ],
      "source": [
        "%pip install pandas --quiet"
      ]
    },
    {
      "cell_type": "code",
      "execution_count": 5,
      "metadata": {
        "colab": {
          "base_uri": "https://localhost:8080/"
        },
        "id": "4T2RBq2-GZFh",
        "outputId": "0228d4db-6d91-46ac-e758-91645112960e"
      },
      "outputs": [],
      "source": [
        "import getpass\n",
        "import os\n",
        "import pandas as pd\n",
        "import numpy as np\n",
        "import json\n",
        "import ast\n",
        "import tiktoken\n",
        "import concurrent.futures\n",
        "from openai import OpenAI\n",
        "from tqdm import tqdm\n",
        "from tenacity import retry, wait_random_exponential, stop_after_attempt\n",
        "from IPython.display import Image, display, HTML\n",
        "from typing import List\n",
        "\n",
        "\n",
        "key = getpass.getpass('Enter the OpenAI key')\n",
        "os.environ['OPENAI_API_KEY'] = key\n",
        "\n",
        "\n",
        "client = OpenAI()\n",
        "\n",
        "\n",
        "GPT_MODEL = \"gpt-4o-mini\"\n",
        "EMBEDDING_MODEL = \"text-embedding-3-large\"\n",
        "EMBEDDING_COST_PER_1K_TOKENS = 0.00013"
      ]
    },
    {
      "cell_type": "code",
      "execution_count": 7,
      "metadata": {
        "colab": {
          "base_uri": "https://localhost:8080/"
        },
        "id": "DJghTU0CLuNI",
        "outputId": "20e9caa0-144f-43a1-8a6f-2fae0d0f0f74"
      },
      "outputs": [
        {
          "name": "stdout",
          "output_type": "stream",
          "text": [
            "      id gender masterCategory subCategory articleType baseColour  season  \\\n",
            "0  27152    Men        Apparel     Topwear      Shirts       Blue  Summer   \n",
            "1  10469    Men        Apparel     Topwear     Tshirts     Yellow    Fall   \n",
            "2  17169    Men        Apparel     Topwear      Shirts     Maroon    Fall   \n",
            "3  56702    Men        Apparel     Topwear      Kurtas       Blue  Summer   \n",
            "4  47062  Women        Apparel  Bottomwear     Patiala      Multi    Fall   \n",
            "\n",
            "     year   usage                       productDisplayName  \n",
            "0  2012.0  Formal       Mark Taylor Men Striped Blue Shirt  \n",
            "1  2011.0  Casual   Flying Machine Men Yellow Polo Tshirts  \n",
            "2  2011.0  Casual  U.S. Polo Assn. Men Checks Maroon Shirt  \n",
            "3  2012.0  Ethnic                  Fabindia Men Blue Kurta  \n",
            "4  2012.0  Ethnic        Shree Women Multi Colored Patiala  \n",
            "Opened dataset successfully. Dataset has 1000 items of clothing.\n"
          ]
        }
      ],
      "source": [
        "styles_filepath = \"sample_styles.csv\"\n",
        "styles_df = pd.read_csv(styles_filepath, on_bad_lines='skip')\n",
        "print(styles_df.head())\n",
        "print(\"Opened dataset successfully. Dataset has {} items of clothing.\".format(len(styles_df)))"
      ]
    },
    {
      "cell_type": "code",
      "execution_count": 8,
      "metadata": {
        "id": "b1Y7MlsCMqdl"
      },
      "outputs": [],
      "source": [
        "## Batch Embedding Logic\n",
        "\n",
        "# Simple function to take in a list of text objects and return them as a list of embeddings\n",
        "@retry(wait=wait_random_exponential(min=1, max=40), stop=stop_after_attempt(10))\n",
        "def get_embeddings(input: List):\n",
        "    response = client.embeddings.create(\n",
        "        input=input,\n",
        "        model=EMBEDDING_MODEL\n",
        "    ).data\n",
        "    return [data.embedding for data in response]\n",
        "\n",
        "\n",
        "# Splits an iterable into batches of size n.\n",
        "def batchify(iterable, n=1):\n",
        "    l = len(iterable)\n",
        "    for ndx in range(0, l, n):\n",
        "        yield iterable[ndx : min(ndx + n, l)]\n",
        "\n",
        "\n",
        "# Function for batching and parallel processing the embeddings\n",
        "def embed_corpus(\n",
        "    corpus: List[str],\n",
        "    batch_size=64,\n",
        "    num_workers=8,\n",
        "    max_context_len=8191,\n",
        "):\n",
        "    # Encode the corpus, truncating to max_context_len\n",
        "    encoding = tiktoken.get_encoding(\"cl100k_base\")\n",
        "    encoded_corpus = [\n",
        "        encoded_article[:max_context_len] for encoded_article in encoding.encode_batch(corpus)\n",
        "    ]\n",
        "\n",
        "    # Calculate corpus statistics: the number of inputs, the total number of tokens, and the estimated cost to embed\n",
        "    num_tokens = sum(len(article) for article in encoded_corpus)\n",
        "    cost_to_embed_tokens = num_tokens / 1000 * EMBEDDING_COST_PER_1K_TOKENS\n",
        "    print(\n",
        "        f\"num_articles={len(encoded_corpus)}, num_tokens={num_tokens}, est_embedding_cost={cost_to_embed_tokens:.2f} USD\"\n",
        "    )\n",
        "\n",
        "    # Embed the corpus\n",
        "    with concurrent.futures.ThreadPoolExecutor(max_workers=num_workers) as executor:\n",
        "\n",
        "        futures = [\n",
        "            executor.submit(get_embeddings, text_batch)\n",
        "            for text_batch in batchify(encoded_corpus, batch_size)\n",
        "        ]\n",
        "\n",
        "        with tqdm(total=len(encoded_corpus)) as pbar:\n",
        "            for _ in concurrent.futures.as_completed(futures):\n",
        "                pbar.update(batch_size)\n",
        "\n",
        "        embeddings = []\n",
        "        for future in futures:\n",
        "            data = future.result()\n",
        "            embeddings.extend(data)\n",
        "\n",
        "        return embeddings\n",
        "\n",
        "\n",
        "# Function to generate embeddings for a given column in a DataFrame\n",
        "def generate_embeddings(df, column_name):\n",
        "    # Initialize an empty list to store embeddings\n",
        "    descriptions = df[column_name].astype(str).tolist()\n",
        "    embeddings = embed_corpus(descriptions)\n",
        "\n",
        "    # Add the embeddings as a new column to the DataFrame\n",
        "    df['embeddings'] = embeddings\n",
        "    print(\"Embeddings created successfully.\")"
      ]
    },
    {
      "cell_type": "code",
      "execution_count": 9,
      "metadata": {
        "colab": {
          "base_uri": "https://localhost:8080/"
        },
        "id": "bwS2YwzXNYbj",
        "outputId": "a3852601-123a-464a-d4c6-03c7d934c034"
      },
      "outputs": [
        {
          "name": "stdout",
          "output_type": "stream",
          "text": [
            "num_articles=1000, num_tokens=8280, est_embedding_cost=0.00 USD\n"
          ]
        },
        {
          "name": "stderr",
          "output_type": "stream",
          "text": [
            "1024it [00:02, 359.97it/s]                         \n"
          ]
        },
        {
          "name": "stdout",
          "output_type": "stream",
          "text": [
            "Embeddings created successfully.\n",
            "Writing embeddings to file ...\n",
            "Embeddings successfully stored in sample_styles_with_embeddings.csv\n"
          ]
        }
      ],
      "source": [
        "generate_embeddings(styles_df, 'productDisplayName')\n",
        "print(\"Writing embeddings to file ...\")\n",
        "styles_df.to_csv('sample_styles_with_embeddings.csv', index=False)\n",
        "print(\"Embeddings successfully stored in sample_styles_with_embeddings.csv\")"
      ]
    },
    {
      "cell_type": "code",
      "execution_count": 10,
      "metadata": {
        "colab": {
          "base_uri": "https://localhost:8080/"
        },
        "id": "_Ed6xU21PseV",
        "outputId": "4c02cf5b-5488-4000-979c-fe77dd03a6cf"
      },
      "outputs": [
        {
          "name": "stdout",
          "output_type": "stream",
          "text": [
            "      id gender masterCategory subCategory articleType baseColour  season  \\\n",
            "0  27152    Men        Apparel     Topwear      Shirts       Blue  Summer   \n",
            "1  10469    Men        Apparel     Topwear     Tshirts     Yellow    Fall   \n",
            "2  17169    Men        Apparel     Topwear      Shirts     Maroon    Fall   \n",
            "3  56702    Men        Apparel     Topwear      Kurtas       Blue  Summer   \n",
            "4  47062  Women        Apparel  Bottomwear     Patiala      Multi    Fall   \n",
            "\n",
            "     year   usage                       productDisplayName  \\\n",
            "0  2012.0  Formal       Mark Taylor Men Striped Blue Shirt   \n",
            "1  2011.0  Casual   Flying Machine Men Yellow Polo Tshirts   \n",
            "2  2011.0  Casual  U.S. Polo Assn. Men Checks Maroon Shirt   \n",
            "3  2012.0  Ethnic                  Fabindia Men Blue Kurta   \n",
            "4  2012.0  Ethnic        Shree Women Multi Colored Patiala   \n",
            "\n",
            "                                          embeddings  \n",
            "0  [0.006910496857017279, 0.0002929018228314817, ...  \n",
            "1  [-0.0437035895884037, -0.008875241503119469, -...  \n",
            "2  [-0.028011705726385117, 0.05885860323905945, -...  \n",
            "3  [-0.004177764989435673, 0.02938208356499672, -...  \n",
            "4  [-0.052361536771059036, 0.01598375290632248, -...  \n",
            "Opened dataset successfully. Dataset has 1000 items of clothing along with their embeddings.\n"
          ]
        }
      ],
      "source": [
        "# styles_df = pd.read_csv('data/sample_clothes/sample_styles_with_embeddings.csv', on_bad_lines='skip')\n",
        "\n",
        "# # Convert the 'embeddings' column from string representations of lists to actual lists of floats\n",
        "# styles_df['embeddings'] = styles_df['embeddings'].apply(lambda x: ast.literal_eval(x))\n",
        "\n",
        "print(styles_df.head())\n",
        "print(\"Opened dataset successfully. Dataset has {} items of clothing along with their embeddings.\".format(len(styles_df)))"
      ]
    },
    {
      "cell_type": "code",
      "execution_count": 11,
      "metadata": {
        "id": "ojz4EberP5P0"
      },
      "outputs": [],
      "source": [
        "def cosine_similarity_manual(vec1, vec2):\n",
        "    \"\"\"Calculate the cosine similarity between two vectors.\"\"\"\n",
        "    vec1 = np.array(vec1, dtype=float)\n",
        "    vec2 = np.array(vec2, dtype=float)\n",
        "\n",
        "\n",
        "    dot_product = np.dot(vec1, vec2)\n",
        "    norm_vec1 = np.linalg.norm(vec1)\n",
        "    norm_vec2 = np.linalg.norm(vec2)\n",
        "    return dot_product / (norm_vec1 * norm_vec2)\n",
        "\n",
        "\n",
        "def find_similar_items(input_embedding, embeddings, threshold=0.5, top_k=2):\n",
        "    \"\"\"Find the most similar items based on cosine similarity.\"\"\"\n",
        "\n",
        "    # Calculate cosine similarity between the input embedding and all other embeddings\n",
        "    similarities = [(index, cosine_similarity_manual(input_embedding, vec)) for index, vec in enumerate(embeddings)]\n",
        "\n",
        "    # Filter out any similarities below the threshold\n",
        "    filtered_similarities = [(index, sim) for index, sim in similarities if sim >= threshold]\n",
        "\n",
        "    # Sort the filtered similarities by similarity score\n",
        "    sorted_indices = sorted(filtered_similarities, key=lambda x: x[1], reverse=True)[:top_k]\n",
        "\n",
        "    # Return the top-k most similar items\n",
        "    return sorted_indices"
      ]
    },
    {
      "cell_type": "code",
      "execution_count": 12,
      "metadata": {
        "id": "Gg1XR7a1QAXn"
      },
      "outputs": [],
      "source": [
        "def find_matching_items_with_rag(df_items, item_descs):\n",
        "   \"\"\"Take the input item descriptions and find the most similar items based on cosine similarity for each description.\"\"\"\n",
        "\n",
        "   # Select the embeddings from the DataFrame.\n",
        "   embeddings = df_items['embeddings'].tolist()\n",
        "\n",
        "\n",
        "   similar_items = []\n",
        "   for desc in item_descs:\n",
        "\n",
        "      # Generate the embedding for the input item\n",
        "      input_embedding = get_embeddings([desc])\n",
        "\n",
        "      # Find the most similar items based on cosine similarity\n",
        "      similar_indices = find_similar_items(input_embedding, embeddings, threshold=0.6)\n",
        "      similar_items += [df_items.iloc[i] for i in similar_indices]\n",
        "\n",
        "   return similar_items"
      ]
    },
    {
      "cell_type": "code",
      "execution_count": 13,
      "metadata": {
        "id": "6WD-y_PVQDI4"
      },
      "outputs": [],
      "source": [
        "def analyze_image(image_base64, subcategories):\n",
        "    response = client.chat.completions.create(\n",
        "        model=GPT_MODEL,\n",
        "        messages=[\n",
        "            {\n",
        "            \"role\": \"user\",\n",
        "            \"content\": [\n",
        "                {\n",
        "                \"type\": \"text\",\n",
        "                \"text\": \"\"\"Given an image of an item of clothing, analyze the item and generate a JSON output with the following fields: \"items\", \"category\", and \"gender\".\n",
        "                           Use your understanding of fashion trends, styles, and gender preferences to provide accurate and relevant suggestions for how to complete the outfit.\n",
        "                           The items field should be a list of items that would go well with the item in the picture. Each item should represent a title of an item of clothing that contains the style, color, and gender of the item.\n",
        "                           The category needs to be chosen between the types in this list: {subcategories}.\n",
        "                           You have to choose between the genders in this list: [Men, Women, Boys, Girls, Unisex]\n",
        "                           Do not include the description of the item in the picture. Do not include the ```json ``` tag in the output.\n",
        "\n",
        "                           Example Input: An image representing a black leather jacket.\n",
        "\n",
        "                           Example Output: {\"items\": [\"Fitted White Women's T-shirt\", \"White Canvas Sneakers\", \"Women's Black Skinny Jeans\"], \"category\": \"Jackets\", \"gender\": \"Women\"}\n",
        "                           \"\"\",\n",
        "                },\n",
        "                {\n",
        "                \"type\": \"image_url\",\n",
        "                \"image_url\": {\n",
        "                    \"url\": f\"data:image/jpeg;base64,{image_base64}\",\n",
        "                },\n",
        "                }\n",
        "            ],\n",
        "            }\n",
        "        ]\n",
        "    )\n",
        "    # Extract relevant features from the response\n",
        "    features = response.choices[0].message.content\n",
        "    return features"
      ]
    },
    {
      "cell_type": "code",
      "execution_count": 14,
      "metadata": {
        "id": "aZf-E1ehQP1X"
      },
      "outputs": [],
      "source": [
        "import base64\n",
        "\n",
        "def encode_image_to_base64(image_path):\n",
        "    with open(image_path, 'rb') as image_file:\n",
        "        encoded_image = base64.b64encode(image_file.read())\n",
        "        return encoded_image.decode('utf-8')"
      ]
    },
    {
      "cell_type": "code",
      "execution_count": 16,
      "metadata": {
        "id": "yDQ_KlBhQ43R"
      },
      "outputs": [],
      "source": [
        "# Set the path to the images and select a test image\n",
        "image_path = \"sample_images/\"\n",
        "test_images = [\"2133.jpg\", \"7143.jpg\", \"4226.jpg\"]\n",
        "\n",
        "# Encode the test image to base64\n",
        "reference_image = image_path + test_images[1]\n",
        "encoded_image = encode_image_to_base64(reference_image)"
      ]
    },
    {
      "cell_type": "code",
      "execution_count": 17,
      "metadata": {
        "colab": {
          "base_uri": "https://localhost:8080/",
          "height": 115
        },
        "id": "Df4XNP2pREyL",
        "outputId": "bb738298-5e2e-4d7e-90d8-e45484bad952"
      },
      "outputs": [
        {
          "data": {
            "image/jpeg": "[encoded data removed]",
            "text/plain": [
              "<IPython.core.display.Image object>"
            ]
          },
          "metadata": {},
          "output_type": "display_data"
        },
        {
          "name": "stdout",
          "output_type": "stream",
          "text": [
            "{'items': ['Beige Chinos for Women', 'Tan Ballet Flats for Women', 'Light Blue Denim Jacket for Women'], 'category': 'Shirts', 'gender': 'Women'}\n"
          ]
        }
      ],
      "source": [
        "# Select the unique subcategories from the DataFrame\n",
        "unique_subcategories = styles_df['articleType'].unique()\n",
        "\n",
        "# Analyze the image and return the results\n",
        "analysis = analyze_image(encoded_image, unique_subcategories)\n",
        "image_analysis = json.loads(analysis)\n",
        "\n",
        "# Display the image and the analysis results\n",
        "display(Image(filename=reference_image))\n",
        "print(image_analysis)"
      ]
    },
    {
      "cell_type": "code",
      "execution_count": 18,
      "metadata": {
        "colab": {
          "base_uri": "https://localhost:8080/",
          "height": 75,
          "resources": {
            "http://localhost:8080/data/sample_clothes/sample_images/43313.jpg": {
              "data": "",
              "headers": [
                [
                  "content-length",
                  "0"
                ]
              ],
              "ok": false,
              "status": 404,
              "status_text": ""
            }
          }
        },
        "id": "FftBWq4oRU_u",
        "outputId": "3e04fb7f-fe14-417a-a5fc-78392311579c"
      },
      "outputs": [
        {
          "name": "stdout",
          "output_type": "stream",
          "text": [
            "377 Remaining Items\n",
            "['Beige Chinos for Women', 'Tan Ballet Flats for Women', 'Light Blue Denim Jacket for Women']\n"
          ]
        },
        {
          "data": {
            "text/html": [
              "<img src=\"sample_images/34076.jpg\" style=\"display:inline;margin:1px\"/><img src=\"sample_images/47474.jpg\" style=\"display:inline;margin:1px\"/><img src=\"sample_images/51505.jpg\" style=\"display:inline;margin:1px\"/><img src=\"sample_images/57063.jpg\" style=\"display:inline;margin:1px\"/>"
            ],
            "text/plain": [
              "<IPython.core.display.HTML object>"
            ]
          },
          "metadata": {},
          "output_type": "display_data"
        }
      ],
      "source": [
        "# Extract the relevant features from the analysis\n",
        "item_descs = image_analysis['items']\n",
        "item_category = image_analysis['category']\n",
        "item_gender = image_analysis['gender']\n",
        "\n",
        "\n",
        "# Filter data such that we only look through the items of the same gender (or unisex) and different category\n",
        "filtered_items = styles_df.loc[styles_df['gender'].isin([item_gender, 'Unisex'])]\n",
        "filtered_items = filtered_items[filtered_items['articleType'] != item_category]\n",
        "print(str(len(filtered_items)) + \" Remaining Items\")\n",
        "\n",
        "# Find the most similar items based on the input item descriptions\n",
        "matching_items = find_matching_items_with_rag(filtered_items, item_descs)\n",
        "\n",
        "# Display the matching items (this will display 2 items for each description in the image analysis)\n",
        "html = \"\"\n",
        "paths = []\n",
        "for i, item in enumerate(matching_items):\n",
        "    item_id = item['id']\n",
        "\n",
        "    # Path to the image file\n",
        "    image_path = f'sample_images/{item_id}.jpg'\n",
        "    paths.append(image_path)\n",
        "    html += f'<img src=\"{image_path}\" style=\"display:inline;margin:1px\"/>'\n",
        "\n",
        "# Print the matching item description as a reminder of what we are looking for\n",
        "print(item_descs)\n",
        "# Display the image\n",
        "display(HTML(html))"
      ]
    },
    {
      "cell_type": "code",
      "execution_count": 19,
      "metadata": {},
      "outputs": [],
      "source": [
        "def check_match(reference_image_base64, suggested_image_base64):\n",
        "    response = client.chat.completions.create(\n",
        "        model=GPT_MODEL,\n",
        "        messages=[\n",
        "            {\n",
        "            \"role\": \"user\",\n",
        "            \"content\": [\n",
        "                {\n",
        "                \"type\": \"text\",\n",
        "                \"text\": \"\"\" You will be given two images of two different items of clothing.\n",
        "                            Your goal is to decide if the items in the images would work in an outfit together.\n",
        "                            The first image is the reference item (the item that the user is trying to match with another item).\n",
        "                            You need to decide if the second item would work well with the reference item.\n",
        "                            Your response must be a JSON output with the following fields: \"answer\", \"reason\".\n",
        "                            The \"answer\" field must be either \"yes\" or \"no\", depending on whether you think the items would work well together.\n",
        "                            The \"reason\" field must be a short explanation of your reasoning for your decision. Do not include the descriptions of the 2 images.\n",
        "                            Do not include the ```json ``` tag in the output.\n",
        "                           \"\"\",\n",
        "                },\n",
        "                {\n",
        "                \"type\": \"image_url\",\n",
        "                \"image_url\": {\n",
        "                    \"url\": f\"data:image/jpeg;base64,{reference_image_base64}\",\n",
        "                },\n",
        "                },\n",
        "                {\n",
        "                \"type\": \"image_url\",\n",
        "                \"image_url\": {\n",
        "                    \"url\": f\"data:image/jpeg;base64,{suggested_image_base64}\",\n",
        "                },\n",
        "                }\n",
        "            ],\n",
        "            }\n",
        "        ],\n",
        "        max_tokens=300,\n",
        "    )\n",
        "    # Extract relevant features from the response\n",
        "    features = response.choices[0].message.content\n",
        "    return features"
      ]
    },
    {
      "cell_type": "code",
      "execution_count": 20,
      "metadata": {},
      "outputs": [
        {
          "data": {
            "image/jpeg": "[encoded data removed]",
            "text/plain": [
              "<IPython.core.display.Image object>"
            ]
          },
          "metadata": {},
          "output_type": "display_data"
        },
        {
          "name": "stdout",
          "output_type": "stream",
          "text": [
            "The items match!\n",
            "The reference item is a shirt that can pair well with jeans, as they create a balanced casual look. The colors and styles of the two items complement each other, making them suitable for an outfit together.\n"
          ]
        },
        {
          "data": {
            "image/jpeg": "[encoded data removed]",
            "text/plain": [
              "<IPython.core.display.Image object>"
            ]
          },
          "metadata": {},
          "output_type": "display_data"
        },
        {
          "name": "stdout",
          "output_type": "stream",
          "text": [
            "The items match!\n",
            "The shirt is casual and versatile, while the flats are simple and elegant, making them compatible for a balanced, stylish look.\n"
          ]
        }
      ],
      "source": [
        "# Select the unique paths for the generated images\n",
        "paths = list(set(paths))\n",
        "\n",
        "for path in paths:\n",
        "    # Encode the test image to base64\n",
        "    suggested_image = encode_image_to_base64(path)\n",
        "    \n",
        "    # Check if the items match\n",
        "    match = json.loads(check_match(encoded_image, suggested_image))\n",
        "    \n",
        "    # Display the image and the analysis results\n",
        "    if match[\"answer\"] == 'yes':\n",
        "        display(Image(filename=path))\n",
        "        print(\"The items match!\")\n",
        "        print(match[\"reason\"])"
      ]
    }
  ],
  "metadata": {
    "colab": {
      "authorship_tag": "ABX9TyMi3qfKTSmJEemAMgOrRx+Y",
      "include_colab_link": true,
      "provenance": []
    },
    "kernelspec": {
      "display_name": "Python 3",
      "name": "python3"
    },
    "language_info": {
      "codemirror_mode": {
        "name": "ipython",
        "version": 3
      },
      "file_extension": ".py",
      "mimetype": "text/x-python",
      "name": "python",
      "nbconvert_exporter": "python",
      "pygments_lexer": "ipython3",
      "version": "3.12.6"
    }
  },
  "nbformat": 4,
  "nbformat_minor": 0
}
